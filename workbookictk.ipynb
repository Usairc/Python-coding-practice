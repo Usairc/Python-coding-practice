{
  "nbformat": 4,
  "nbformat_minor": 0,
  "metadata": {
    "colab": {
      "provenance": []
    },
    "kernelspec": {
      "name": "python3",
      "display_name": "Python 3"
    },
    "language_info": {
      "name": "python"
    }
  },
  "cells": [
    {
      "cell_type": "markdown",
      "source": [
        "# 1. Simple ATM Calculator  \n",
        "Write a program that takes the user's account balance and withdrawal amount. If sufficient balance is available, deduct the amount and display the updated balance. Otherwise, print an error message.\n",
        "\n",
        "**Sample Input:**\n",
        "\n",
        "Balance = 5000\n",
        "\n",
        "Withdrawal = 1500   \n",
        "\n",
        "**Sample Output:**\n",
        "\n",
        "Transaction successful. Remaining balance: ₹3500"
      ],
      "metadata": {
        "id": "7gXhnyArvf7K"
      }
    },
    {
      "cell_type": "code",
      "execution_count": null,
      "metadata": {
        "id": "yVCIltMeu2ls",
        "colab": {
          "base_uri": "https://localhost:8080/"
        },
        "outputId": "06306c35-e379-4b1e-cdef-2f9d76fbf4f1"
      },
      "outputs": [
        {
          "output_type": "stream",
          "name": "stdout",
          "text": [
            "Please enter your account balance : 5000\n",
            "Please enter your Withdrawal amount : 1500\n",
            "Transaction successful. Remaining balance: ₹ 3500\n"
          ]
        }
      ],
      "source": [
        "#Take inputs\n",
        "Balance=int(input(\"Please enter your account balance : \"))\n",
        "Withdraw=int(input(\"Please enter your Withdrawal amount : \"))\n",
        "\n",
        "#Check condition is Withdrawal possible and print\n",
        "if(Balance > Withdraw):\n",
        "  print(\"Transaction successful. Remaining balance: ₹\",Balance-Withdraw)\n",
        "else:\n",
        "  print(\"Insufficient Balance\")"
      ]
    },
    {
      "cell_type": "markdown",
      "source": [
        "# 2. Electricity Bill Generator\n",
        "Create a bill calculator where the user enters the number of units consumed. The rate is ₹5 per unit for the first 100 units, ₹7 for the next 100, and ₹10 for anything above 200 units. Calculate and display the total bill.\n",
        "\n",
        "**Sample Input:**\n",
        "\n",
        "Units consumed = 275\n",
        "\n",
        "**Sample Output:**\n",
        "\n",
        "Bill amount = ₹1950 (100×5 + 100×7 + 75×10)"
      ],
      "metadata": {
        "id": "OjEn3YqFy1ZA"
      }
    },
    {
      "cell_type": "code",
      "source": [
        "#Take inputs\n",
        "Units=int(input(\"Please enter the number of units consumed : \"))\n",
        "\n",
        "#Check units range and calculate bill amount accordingly\n",
        "if(Units<=100):\n",
        "  print(\"Bill amount = ₹\",Units*5)\n",
        "elif(Units<=200):\n",
        "  print(\"Bill amount = ₹\",100*5+(Units-100)*7)\n",
        "else:\n",
        "  print(\"Bill amount = ₹\",100*5+100*7+(Units-200)*10)"
      ],
      "metadata": {
        "id": "FI73Bj1_0Q-P",
        "colab": {
          "base_uri": "https://localhost:8080/"
        },
        "outputId": "6d76ce1a-046a-4fb6-c225-99bc1173de87"
      },
      "execution_count": null,
      "outputs": [
        {
          "output_type": "stream",
          "name": "stdout",
          "text": [
            "Please enter the number of units consumed : 275\n",
            "Bill amount = ₹ 1950\n"
          ]
        }
      ]
    },
    {
      "cell_type": "markdown",
      "source": [
        "# 3. Temperature Converter\n",
        "Write a Python program to convert a given temperature value between Celsius and Fahrenheit. Accept input as a number and a unit indicator ('C' or 'F').\n",
        "\n",
        "**Sample Input:**\n",
        "\n",
        "Temp = \"37\"\n",
        "\n",
        "Unit = \"C\"\n",
        "\n",
        "**Sample Output:**\n",
        "\n",
        "Temperature in Fahrenheit: 98.6°F"
      ],
      "metadata": {
        "id": "PBjbSE5w5gZ6"
      }
    },
    {
      "cell_type": "code",
      "source": [
        "#Take inputs\n",
        "Temp = input(\"Enter temperature: \")\n",
        "Unit = input(\"Enter unit (C or F): \")\n",
        "\n",
        "#Changing temperature type to float\n",
        "Temp = float(Temp)\n",
        "\n",
        "#calculate and print temperature\n",
        "if Unit.upper() == 'C':\n",
        "    fahrenheit = (Temp * 9/5) + 32\n",
        "    print(f\"Temperature in Fahrenheit: {fahrenheit}°F\")\n",
        "elif Unit.upper() == 'F':\n",
        "    celsius = (Temp - 32) * 5/9\n",
        "    print(f\"Temperature in Celsius: {celsius}°C\")\n",
        "else:\n",
        "    print(\"Invalid unit. Please enter 'C' or 'F'.\")"
      ],
      "metadata": {
        "id": "dEYbECfS7x8Z",
        "colab": {
          "base_uri": "https://localhost:8080/"
        },
        "outputId": "f1d57213-74b3-4db8-dbbb-625fb1d06436"
      },
      "execution_count": null,
      "outputs": [
        {
          "output_type": "stream",
          "name": "stdout",
          "text": [
            "Enter temperature: 37\n",
            "Enter unit (C or F): c\n",
            "Temperature in Fahrenheit: 98.6°F\n"
          ]
        }
      ]
    },
    {
      "cell_type": "markdown",
      "source": [
        "# 4. Mobile Recharge Validity\n",
        "Write a program that takes the recharge date and today’s date as input and checks whether the 28-day recharge plan is still valid or expired.\n",
        "\n",
        "**Sample Input:**\n",
        "\n",
        "Recharge date: 2025-07-01\n",
        "\n",
        "Today : 2025-07-30\n",
        "\n",
        "**Sample Output:**\n",
        "\n",
        "Plan expired. Recharge again."
      ],
      "metadata": {
        "id": "bzy34Gdf8W_9"
      }
    },
    {
      "cell_type": "code",
      "source": [
        "#importing date module for date calculation\n",
        "from datetime import datetime, timedelta\n",
        "\n",
        "#Take inputs\n",
        "recharge_date_str = input(\"Enter recharge date (YYYY-MM-DD): \")\n",
        "today_date_str = input(\"Enter today's date (YYYY-MM-DD): \")\n",
        "\n",
        "#Change date data type from string to date format\n",
        "recharge_date = datetime.strptime(recharge_date_str, \"%Y-%m-%d\")\n",
        "today_date = datetime.strptime(today_date_str, \"%Y-%m-%d\")\n",
        "\n",
        "#Calculating expiry date from date of reacharge\n",
        "validity_period = timedelta(days=28)\n",
        "expiry_date = recharge_date + validity_period\n",
        "\n",
        "#Cheking expiry is over or not and print\n",
        "if today_date <= expiry_date:\n",
        "    print(\"Plan is still valid.\")\n",
        "else:\n",
        "    print(\"Plan expired. Recharge again.\")"
      ],
      "metadata": {
        "id": "BXQ7WV9N-TSv",
        "colab": {
          "base_uri": "https://localhost:8080/"
        },
        "outputId": "f41d042a-bded-4846-e007-43bb1cb9b1b0"
      },
      "execution_count": null,
      "outputs": [
        {
          "output_type": "stream",
          "name": "stdout",
          "text": [
            "Enter recharge date (YYYY-MM-DD): 2025-07-01\n",
            "Enter today's date (YYYY-MM-DD): 2025-07-30\n",
            "Plan expired. Recharge again.\n"
          ]
        }
      ]
    },
    {
      "cell_type": "markdown",
      "source": [
        "# 5. Bus Seat Reservation System:\n",
        "A list contains the names of passengers in order of booking. A cancellation occurs; remove the name from the list and shift the rest. Also, insert a new booking at a specified position.\n",
        "\n",
        "**Sample Input:**\n",
        "\n",
        "Booked = ['Amit', 'Sara', 'John'],\n",
        "\n",
        "Cancel = 'Sara',\n",
        "\n",
        "New = 'Neha', Position = 1\n",
        "\n",
        "**Sample Output:**\n",
        "\n",
        "['Amit', 'Neha', 'John']"
      ],
      "metadata": {
        "id": "zEZ4xZwc_c4Z"
      }
    },
    {
      "cell_type": "code",
      "source": [
        "#preset data\n",
        "booked = ['Amit', 'Sara', 'John']\n",
        "cancel = 'Sara'\n",
        "new = 'Neha'\n",
        "position = 1\n",
        "\n",
        "# Remove the cancelled booking\n",
        "if cancel in booked:\n",
        "    booked.remove(cancel)\n",
        "\n",
        "# Insert the new booking at the specified position\n",
        "booked.insert(position, new)\n",
        "\n",
        "print(booked)"
      ],
      "metadata": {
        "id": "8QIDRKlWAWBe",
        "colab": {
          "base_uri": "https://localhost:8080/"
        },
        "outputId": "d9aadf7b-a203-41a3-ac5a-8e7aa4e024bd"
      },
      "execution_count": null,
      "outputs": [
        {
          "output_type": "stream",
          "name": "stdout",
          "text": [
            "['Amit', 'Neha', 'John']\n"
          ]
        }
      ]
    },
    {
      "cell_type": "markdown",
      "source": [
        "# 6. Sum of even numbers\n",
        "Write a program that takes a number as input and prints the sum of all even numbers from 1 to that number.\n",
        "\n",
        "**Sample Input:**\n",
        "\n",
        "Number: 10\n",
        "\n",
        "**Sample Output:**\n",
        "\n",
        "Sum of even numbers: 30"
      ],
      "metadata": {
        "id": "8H73MkQ_bELR"
      }
    },
    {
      "cell_type": "code",
      "source": [
        "#Take inputs\n",
        "num = int(input(\"Enter a number: \"))\n",
        "sum_even = 0\n",
        "\n",
        "#Add each even upto that number\n",
        "for i in range(1, num + 1):\n",
        "    if i % 2 == 0:\n",
        "        sum_even += i\n",
        "\n",
        "print(f\"Sum of even numbers: {sum_even}\")"
      ],
      "metadata": {
        "id": "1L26PHLWdLks",
        "colab": {
          "base_uri": "https://localhost:8080/"
        },
        "outputId": "ad61edde-425d-491c-de52-71a9456e8457"
      },
      "execution_count": null,
      "outputs": [
        {
          "output_type": "stream",
          "name": "stdout",
          "text": [
            "Enter a number: 10\n",
            "Sum of even numbers: 30\n"
          ]
        }
      ]
    },
    {
      "cell_type": "markdown",
      "source": [
        "# 7. Dictionary – Student Marks Summary\n",
        "Write a program that takes input of 3 students’ names and their marks, stores them in a dictionary, and prints the average marks.\n",
        "\n",
        "**Sample Input:**\n",
        "\n",
        "Enter name: Alice\n",
        "\n",
        "Enter marks: 80\n",
        "\n",
        "Enter name: Bob\n",
        "\n",
        "Enter marks: 90\n",
        "\n",
        "Enter name: Charlie\n",
        "\n",
        "Enter marks: 70\n",
        "\n",
        "**Sample Output:**\n",
        "\n",
        "Average Marks: 80.0"
      ],
      "metadata": {
        "id": "0jqF5nfbdqrF"
      }
    },
    {
      "cell_type": "code",
      "source": [
        "#Initialization\n",
        "student_data = {}\n",
        "total_marks = 0\n",
        "\n",
        "#Take inputs\n",
        "for i in range(3):\n",
        "    name = input(\"Enter name: \")\n",
        "    marks = int(input(\"Enter marks: \"))\n",
        "    student_data[name] = marks\n",
        "    total_marks += marks\n",
        "\n",
        "#Calculate average mark and print\n",
        "average_marks = total_marks / len(student_data)\n",
        "print(f\"Average Marks: {average_marks}\")"
      ],
      "metadata": {
        "id": "SBszDGd2fEXw",
        "colab": {
          "base_uri": "https://localhost:8080/"
        },
        "outputId": "d12aa40c-254d-46b9-bd24-6f6194b87eef"
      },
      "execution_count": null,
      "outputs": [
        {
          "output_type": "stream",
          "name": "stdout",
          "text": [
            "Enter name: Alice\n",
            "Enter marks: 80\n",
            "Enter name: Bob\n",
            "Enter marks: 90\n",
            "Enter name: Charlie\n",
            "Enter marks: 70\n",
            "Average Marks: 80.0\n"
          ]
        }
      ]
    },
    {
      "cell_type": "markdown",
      "source": [
        "# 8. Dictionary – Word Frequency\n",
        "Write a program that takes a sentence and displays the frequency of each word using a dictionary.\n",
        "\n",
        "**Sample Input:**\n",
        "\n",
        "Sentence: hello world hello python\n",
        "\n",
        "**Sample Output:**\n",
        "\n",
        "hello: 2\n",
        "\n",
        "world: 1\n",
        "\n",
        "python: 1"
      ],
      "metadata": {
        "id": "EoS_uHs9gRlM"
      }
    },
    {
      "cell_type": "code",
      "source": [
        "#Take input\n",
        "sentence = input(\"Enter a sentence: \")\n",
        "word_frequency = {}\n",
        "\n",
        "#Store string as words\n",
        "words = sentence.lower().split()\n",
        "\n",
        "#Counting word count\n",
        "for word in words:\n",
        "    word_frequency[word] = word_frequency.get(word, 0) + 1\n",
        "\n",
        "#print dictionary\n",
        "for word, frequency in word_frequency.items():\n",
        "    print(f\"{word}: {frequency}\")"
      ],
      "metadata": {
        "id": "IiMfxRoYguEb",
        "colab": {
          "base_uri": "https://localhost:8080/"
        },
        "outputId": "d660d07a-d515-425e-ecc2-08daad4d96ac"
      },
      "execution_count": null,
      "outputs": [
        {
          "output_type": "stream",
          "name": "stdout",
          "text": [
            "Enter a sentence: hello world hello python\n",
            "hello: 2\n",
            "world: 1\n",
            "python: 1\n"
          ]
        }
      ]
    },
    {
      "cell_type": "markdown",
      "source": [
        "# 9. Functions – Check Prime\n",
        "Write a function that checks whether a number is prime. Call the function with user input.\n",
        "\n",
        "**Sample Input:**\n",
        "\n",
        "Enter a number : 17\n",
        "\n",
        "**Sample output:**\n",
        "\n",
        "17 is a prime number."
      ],
      "metadata": {
        "id": "pICzMivukoJw"
      }
    },
    {
      "cell_type": "code",
      "source": [
        "#Function to checks whether a number is prime\n",
        "def is_prime(num):\n",
        "    if num <= 1:\n",
        "        return False\n",
        "    for i in range(2, int(num**0.5) + 1):\n",
        "        if num % i == 0:\n",
        "            return False\n",
        "    return True\n",
        "\n",
        "#Take input\n",
        "number = int(input(\"Enter a number : \"))\n",
        "\n",
        "#Function call\n",
        "if is_prime(number):\n",
        "    print(f\"{number} is a prime number.\")\n",
        "else:\n",
        "    print(f\"{number} is not a prime number.\")"
      ],
      "metadata": {
        "id": "h46FyQiek-Bh",
        "colab": {
          "base_uri": "https://localhost:8080/"
        },
        "outputId": "c0025df2-6e16-492f-de9d-87a888fa0a6b"
      },
      "execution_count": null,
      "outputs": [
        {
          "output_type": "stream",
          "name": "stdout",
          "text": [
            "Enter a number : 17\n",
            "17 is a prime number.\n"
          ]
        }
      ]
    },
    {
      "cell_type": "markdown",
      "source": [
        "# 10. Vowel Counter\n",
        "Write a function that takes a string and returns the number of vowels in it.\n",
        "\n",
        "**Sample Input:**\n",
        "\n",
        "Enter a string: Python Programming\n",
        "\n",
        "**Sample output:**\n",
        "\n",
        "Number of vowels: 4"
      ],
      "metadata": {
        "id": "Qq5WlBhoql2b"
      }
    },
    {
      "cell_type": "code",
      "metadata": {
        "id": "494eb2a0",
        "colab": {
          "base_uri": "https://localhost:8080/"
        },
        "outputId": "73071543-4628-4c0e-c996-e8cac9817b87"
      },
      "source": [
        "# Function takes a string and returns the number of vowels\n",
        "def count_vowels(text):\n",
        "    vowels = \"aeiouAEIOU\"\n",
        "    vowel_count = 0\n",
        "    for char in text:\n",
        "        if char in vowels:\n",
        "            vowel_count += 1\n",
        "    return vowel_count\n",
        "\n",
        "#Taking input and calling function\n",
        "input_string = input(\"Enter a string: \")\n",
        "num_vowels = count_vowels(input_string)\n",
        "print(f\"Number of vowels: {num_vowels}\")"
      ],
      "execution_count": null,
      "outputs": [
        {
          "output_type": "stream",
          "name": "stdout",
          "text": [
            "Enter a string: Python Programming\n",
            "Number of vowels: 4\n"
          ]
        }
      ]
    },
    {
      "cell_type": "markdown",
      "source": [
        "# 11. Count Divisible Numbers\n",
        "Write a program that takes two numbers as input: a range limit N and a divisor D. Count how many numbers between 1 and N are divisible by D.\n",
        "\n",
        "**Sample Input:**\n",
        "\n",
        "Enter the range limit (N): 50\n",
        "\n",
        "Enter the divisor (D): 5\n",
        "\n",
        "**Sample output:**\n",
        "\n",
        "Count of numbers divisible by 5: 10"
      ],
      "metadata": {
        "id": "SIB-9JiYz54D"
      }
    },
    {
      "cell_type": "code",
      "metadata": {
        "id": "3Y0XG2Q8i1mN",
        "colab": {
          "base_uri": "https://localhost:8080/"
        },
        "outputId": "fc091fe2-60d7-42e1-a7c6-8a551e44d52a"
      },
      "source": [
        "# Take inputs\n",
        "N = int(input(\"Enter the range limit (N): \"))\n",
        "D = int(input(\"Enter the divisor (D): \"))\n",
        "\n",
        "count = 0\n",
        "\n",
        "# Iterate to N to check if the current number is divisible\n",
        "for i in range(1, N + 1):\n",
        "      if i % D == 0:\n",
        "        count += 1\n",
        "\n",
        "print(f\"Count of numbers divisible by {D}: {count}\")"
      ],
      "execution_count": null,
      "outputs": [
        {
          "output_type": "stream",
          "name": "stdout",
          "text": [
            "Enter the range limit (N): 50\n",
            "Enter the divisor (D): 5\n",
            "Count of numbers divisible by 5: 10\n"
          ]
        }
      ]
    }
  ]
}